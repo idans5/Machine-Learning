{
 "cells": [
  {
   "cell_type": "markdown",
   "metadata": {},
   "source": [
    "# Assignment 2 - Classification - KNN\n",
    "\n",
    "Dataset - The Titanic dataset: <br/>\n",
    "<img src=\"ships-titanic-vehicles-best.jpg\" Width=\"800\"/>"
   ]
  },
  {
   "cell_type": "code",
   "execution_count": 1,
   "metadata": {
    "deletable": false,
    "editable": false,
    "nbgrader": {
     "cell_type": "code",
     "checksum": "a34253fe56dc2000cbff7d6cd467727d",
     "grade": false,
     "grade_id": "imports",
     "locked": true,
     "schema_version": 3,
     "solution": false,
     "task": false
    }
   },
   "outputs": [],
   "source": [
    "# import file section - DO NOT CHANGE:\n",
    "import pandas as pd\n",
    "import numpy as np\n",
    "import matplotlib.pyplot as plt\n",
    "import math \n",
    "from random import randrange"
   ]
  },
  {
   "cell_type": "markdown",
   "metadata": {},
   "source": [
    "## General instructions:\n",
    "Please Read the following instructions, and make sure you follow all steps, before submiting your assignment via moodle:\n",
    "- Put your code one line after the '# YOUR CODE HERE' remark\n",
    "- You must remove the 'raise NotImplementedError()' exception raising line (which appears a line after the above remark).\n",
    "    * if you do not remove this line, it will be a sign that you didn't implement that code, and we won't be able to check your work\n",
    "- Do NOT remove any other line in this notebook    \n",
    "- you also need to implement the two functions 'myName', 'myId'\n",
    "    * myName - you need to return your full name as a string\n",
    "    * myId - you need to return your ID number as a an integer    \n",
    "- When you want to check your work, select the 'Cell' --> 'Run All' menu\n",
    "    * before performing your filnal test, we suggest to clear previous output (by selecting 'Cell' --> 'All output' --> 'Clear' menu) and then reperform the final execution ('Cell' --> 'Run All') of the code.\n",
    "    * after performing 'Run All', make sure there are no exceptions thrown and that the output is as you expected.\n",
    "- Don't forget to save your work, by clicking the 'save' icon (in the upper left part of the screen), or by selecting the 'File' --> 'Save and checkpoint' menu item. \n",
    "- Do NOT change the file name of this notebook\n",
    "- The work is done individualy, for each student\n",
    "- Each student needs to submit his/her assignment through moodle.\n",
    "- Submit the python notebook only (not any additional possible files) \n",
    "<br/><br/>\n",
    "Good Luck :-)<br/>\n",
    "The courses staff"
   ]
  },
  {
   "cell_type": "markdown",
   "metadata": {},
   "source": [
    "## The following 2 functions are mandatory to get your details"
   ]
  },
  {
   "cell_type": "code",
   "execution_count": 2,
   "metadata": {
    "deletable": false,
    "nbgrader": {
     "cell_type": "code",
     "checksum": "b1e36ced8d075dff6ca18275b6def510",
     "grade": false,
     "grade_id": "01-myName-impl",
     "locked": false,
     "schema_version": 3,
     "solution": true,
     "task": false
    }
   },
   "outputs": [],
   "source": [
    "# Change the following function to return your full name (as a string).\n",
    "# --------------------- General notes:\n",
    "# Don't forget to remove the 'raise NotImplementedError()' line.\n",
    "# In the line following the '# YOUR CODE HERE' line, add your code\n",
    "# --------------------- \n",
    "def myName():\n",
    "    # YOUR CODE HERE\n",
    "    return \"Idan Shtark\""
   ]
  },
  {
   "cell_type": "code",
   "execution_count": 3,
   "metadata": {
    "deletable": false,
    "nbgrader": {
     "cell_type": "code",
     "checksum": "dda6eb87e508c411244780ca2aff773d",
     "grade": false,
     "grade_id": "02-myId-impl",
     "locked": false,
     "schema_version": 3,
     "solution": true,
     "task": false
    }
   },
   "outputs": [],
   "source": [
    "# Change the following function to return your ID number (as an integer number).\n",
    "# --------------------- General notes:\n",
    "# Don't forget to remove the 'raise NotImplementedError()' line.\n",
    "# In the line following the '# YOUR CODE HERE' line, add your code\n",
    "# --------------------- \n",
    "def myId():\n",
    "    # YOUR CODE HERE\n",
    "    return 305601833"
   ]
  },
  {
   "cell_type": "code",
   "execution_count": 4,
   "metadata": {
    "deletable": false,
    "editable": false,
    "nbgrader": {
     "cell_type": "code",
     "checksum": "4d9f41abdb54b8685fa6a9796ded5334",
     "grade": true,
     "grade_id": "test-name-and-id",
     "locked": true,
     "points": 0,
     "schema_version": 3,
     "solution": false,
     "task": false
    }
   },
   "outputs": [
    {
     "name": "stdout",
     "output_type": "stream",
     "text": [
      "your name is: Idan Shtark\n",
      "your id is: 305601833\n"
     ]
    }
   ],
   "source": [
    "aName = myName()\n",
    "aId = myId()\n",
    "assert aName is not None, 'no return student name'\n",
    "assert type(aName) is str, \"name is not a string: %r\" % aName\n",
    "assert aId is not None, 'no return student id'\n",
    "assert type(aId) is int, \"id is not an integer: %r\" % aId\n",
    "print (\"your name is: %s\" %(aName))\n",
    "print (\"your id is: %d\" %(aId))"
   ]
  },
  {
   "cell_type": "code",
   "execution_count": 5,
   "metadata": {
    "deletable": false,
    "nbgrader": {
     "cell_type": "code",
     "checksum": "bad257157e4f881f72a28e13f8e80b78",
     "grade": false,
     "grade_id": "03-loadFile-impl",
     "locked": false,
     "schema_version": 3,
     "solution": true,
     "task": false
    }
   },
   "outputs": [],
   "source": [
    "# Change the following function to return two datasets xInstances, yCategories\n",
    "# The xInstances contains all columns, besides the 'Survived' column, which is the category column\n",
    "# ----- the xInstances is a dataframe, with the 'PassengerId' column as an index.\n",
    "# ----- the xInstances dataframe contains the instance vectors (each row is an instance with values of the features) \n",
    "# The yCategories contains only two columns: 'PassengerId','Survived' (which is a column of the categories) \n",
    "# ----- the yCategories is a dataframe, with the 'PassengerId' column as an index.\n",
    "# ----- the yCategories dataframe contains only the category column ('Survived'), besides the index \n",
    "# ----- (each value in the 'Survived' column corresponds to the feature vector in xInstances with the same 'PassengerId') \n",
    "# --------------------- General notes:\n",
    "# Don't forget to remove the 'raise NotImplementedError()' line.\n",
    "# In the line following the '# YOUR CODE HERE' line, add your code\n",
    "# --------------------- \n",
    "def loadCsvFile(fileName):\n",
    "    # YOUR CODE HERE\n",
    "    cols = list(pd.read_csv(fileName, nrows = 1))\n",
    "    xInstances = pd.read_csv(fileName, index_col = 'PassengerId', usecols =[i for i in cols if i != 'Survived'])\n",
    "    yCategories = pd.read_csv(fileName,index_col = 'PassengerId', usecols=['PassengerId','Survived'])\n",
    "    return xInstances,yCategories;"
   ]
  },
  {
   "cell_type": "code",
   "execution_count": 6,
   "metadata": {
    "deletable": false,
    "editable": false,
    "nbgrader": {
     "cell_type": "code",
     "checksum": "3559e166aef4914c20ebb7cedbaf4f71",
     "grade": true,
     "grade_id": "test-loadFile",
     "locked": true,
     "points": 1,
     "schema_version": 3,
     "solution": false,
     "task": false
    }
   },
   "outputs": [
    {
     "name": "stdout",
     "output_type": "stream",
     "text": [
      "titanic instance dataframe object is NOT empty\n",
      "\t titanic instance dataframe object was loaded successfuly\n",
      "titanic category dataframe object is NOT empty\n",
      "\t titanic category dataframe object was loaded successfuly\n",
      "------------------------\n",
      "\n",
      "instance (=feature vector) datafame (displaying the \"age\",\"gender\" features):\n",
      "              Age  Gender\n",
      "PassengerId              \n",
      "1            22.0    male\n",
      "2            38.0  female\n",
      "3            26.0  female\n",
      "4            35.0  female\n",
      "5            35.0    male\n",
      "------------------------\n",
      "\n",
      "class (=category) datafame:\n",
      "             Survived\n",
      "PassengerId          \n",
      "1                   0\n",
      "2                   1\n",
      "3                   1\n",
      "4                   1\n",
      "5                   0\n",
      "------------------------\n",
      "\n"
     ]
    }
   ],
   "source": [
    "xTitanicInstances, yTitanicCategories = loadCsvFile('titanic_dataset_fix.csv')\n",
    "# validating that the data is loaded successfully:\n",
    "assert xTitanicInstances is not None, 'titanic instance dataframe object is empty'\n",
    "print ( 'titanic instance dataframe object is NOT empty')\n",
    "assert 'Survived' not in xTitanicInstances.columns, 'instances should not include the category column'\n",
    "assert np.array_equal(xTitanicInstances['Age'].head().tolist()[1:3],[38, 26]), 'titanic instance dataframe object was NOT loaded successfully'\n",
    "print (\"\\t titanic instance dataframe object was loaded successfuly\")\n",
    "assert yTitanicCategories is not None, 'titanic category dataframe object is empty'\n",
    "assert 'Survived' in yTitanicCategories.columns, 'category dataframe is missing the category column'\n",
    "print ( 'titanic category dataframe object is NOT empty')\n",
    "assert np.array_equal(yTitanicCategories['Survived'].head().tolist()[:2],[0, 1]), 'titanic category dataframe object was NOT loaded successfully'\n",
    "print (\"\\t titanic category dataframe object was loaded successfuly\")\n",
    "print ('------------------------\\n')\n",
    "\n",
    "  \n",
    "print ('instance (=feature vector) datafame (displaying the \"age\",\"gender\" features):')\n",
    "print (xTitanicInstances[['Age','Gender']].head())\n",
    "print ('------------------------\\n')\n",
    "print ('class (=category) datafame:')\n",
    "print (yTitanicCategories.head())\n",
    "print ('------------------------\\n')\n"
   ]
  },
  {
   "cell_type": "code",
   "execution_count": 7,
   "metadata": {
    "deletable": false,
    "nbgrader": {
     "cell_type": "code",
     "checksum": "adf24e81133f513f7a39fad169827118",
     "grade": false,
     "grade_id": "04-trainTestSplit-impl",
     "locked": false,
     "schema_version": 3,
     "solution": true,
     "task": false
    }
   },
   "outputs": [],
   "source": [
    "# Change the following function to return a train-test split of the dataset\n",
    "# --- hint: use the randrange function, taught in class\n",
    "# input parameter: xInstances - the instance dataframe (=feature vectors) without the categories  \n",
    "# input parameter: yCategories - the category (=class/tag) dataframe\n",
    "# input parameter: testRatio - a 0<number<1, which represent the ratio of the dataset which will be used by the test set\n",
    "# --- as explained, frequently used values are: 0.1, 0.2 or 0.3\n",
    "# output: xTrainInstances, xTestInstances, yTrainCategories, yTestCategories\n",
    "# --------------------- General notes:\n",
    "# Use of external packages are forbidden\n",
    "# Don't forget to remove the 'raise NotImplementedError()' line.\n",
    "# In the line following the '# YOUR CODE HERE' line, add your code\n",
    "# --------------------- \n",
    "def trainTestSplit(xInstances,yCategories,testRatio):\n",
    "    # YOUR CODE HERE\n",
    "    import random\n",
    "    print(xInstances)\n",
    "    print(yCategories)\n",
    "    print(xInstances.shape[0])\n",
    "    splittrain = random.sample(range(1,xInstances.shape[0]+1),int((1-testRatio)*xInstances.shape[0]))\n",
    "    splittest = [index for index in list(xInstances.index) if index not in splittrain]\n",
    "    \n",
    "    rowstrain = splittrain[-1:]+splittrain[:-1]\n",
    "    xTrainInstances=xInstances.loc[rowstrain]\n",
    "    yTrainCategories = yCategories.loc[rowstrain]\n",
    "    \n",
    "    rowstest = splittest[-1:]+splittest[:-1]\n",
    "    xTestInstances =  xInstances.loc[rowstest]\n",
    "    yTestCategories = yCategories.loc[rowstest]\n",
    "    \n",
    "    return xTrainInstances, xTestInstances, yTrainCategories, yTestCategories"
   ]
  },
  {
   "cell_type": "code",
   "execution_count": 8,
   "metadata": {
    "deletable": false,
    "editable": false,
    "nbgrader": {
     "cell_type": "code",
     "checksum": "e048d26407744a78f36f72d8d3463bcf",
     "grade": true,
     "grade_id": "test-trainTestSplit",
     "locked": true,
     "points": 1,
     "schema_version": 3,
     "solution": false,
     "task": false
    }
   },
   "outputs": [
    {
     "name": "stdout",
     "output_type": "stream",
     "text": [
      "             Pclass                                               Name  \\\n",
      "PassengerId                                                              \n",
      "1                 3                            Braund, Mr. Owen Harris   \n",
      "2                 1  Cumings, Mrs. John Bradley (Florence Briggs Th...   \n",
      "3                 3                             Heikkinen, Miss. Laina   \n",
      "4                 1       Futrelle, Mrs. Jacques Heath (Lily May Peel)   \n",
      "5                 3                           Allen, Mr. William Henry   \n",
      "6                 3                                   Moran, Mr. James   \n",
      "7                 1                            McCarthy, Mr. Timothy J   \n",
      "8                 3                     Palsson, Master. Gosta Leonard   \n",
      "9                 3  Johnson, Mrs. Oscar W (Elisabeth Vilhelmina Berg)   \n",
      "10                2                Nasser, Mrs. Nicholas (Adele Achem)   \n",
      "\n",
      "             Gender        Age  SibSp  Parch            Ticket     Fare Cabin  \\\n",
      "PassengerId                                                                     \n",
      "1              male  22.000000      1      0         A/5 21171   7.2500   NaN   \n",
      "2            female  38.000000      1      0          PC 17599  71.2833   C85   \n",
      "3            female  26.000000      0      0  STON/O2. 3101282   7.9250   NaN   \n",
      "4            female  35.000000      1      0            113803  53.1000  C123   \n",
      "5              male  35.000000      0      0            373450   8.0500   NaN   \n",
      "6              male  41.560785      0      0            330877   8.4583   NaN   \n",
      "7              male  54.000000      0      0             17463  51.8625   E46   \n",
      "8              male   2.000000      3      1            349909  21.0750   NaN   \n",
      "9            female  27.000000      0      2            347742  11.1333   NaN   \n",
      "10           female  14.000000      1      0            237736  30.0708   NaN   \n",
      "\n",
      "            Embarked  \n",
      "PassengerId           \n",
      "1                  S  \n",
      "2                  C  \n",
      "3                  S  \n",
      "4                  S  \n",
      "5                  S  \n",
      "6                  Q  \n",
      "7                  S  \n",
      "8                  S  \n",
      "9                  S  \n",
      "10                 C  \n",
      "             Survived\n",
      "PassengerId          \n",
      "1                   0\n",
      "2                   1\n",
      "3                   1\n",
      "4                   1\n",
      "5                   0\n",
      "6                   0\n",
      "7                   0\n",
      "8                   0\n",
      "9                   1\n",
      "10                  1\n",
      "10\n",
      "                   Age  Gender\n",
      "PassengerId                   \n",
      "8             2.000000    male\n",
      "3            26.000000  female\n",
      "2            38.000000  female\n",
      "5            35.000000    male\n",
      "1            22.000000    male\n",
      "4            35.000000  female\n",
      "6            41.560785    male\n",
      "-----------------\n",
      "              Age  Gender\n",
      "PassengerId              \n",
      "10           14.0  female\n",
      "7            54.0    male\n",
      "9            27.0  female\n",
      "-----------------\n"
     ]
    }
   ],
   "source": [
    "xTitanicInstances10 = xTitanicInstances.iloc[:10]\n",
    "yTitanicCategories10= yTitanicCategories.iloc[:10]\n",
    "\n",
    "from random import seed\n",
    "seed(1)\n",
    "splitSize=0.3\n",
    "xTrain,xTest,yTrain,yTest = trainTestSplit(xTitanicInstances10,yTitanicCategories10,splitSize)\n",
    "assert xTest is not None, 'xTest should not be None'\n",
    "assert len(xTest)==len(xTitanicInstances10)*splitSize,'wrong split size'\n",
    "assert yTest is not None, 'yTest should not be None'\n",
    "assert len(yTest)==len(xTitanicInstances10)*splitSize,'wrong split size'\n",
    "assert xTrain is not None, 'xTrain should not be None'\n",
    "assert len(xTrain)==len(xTitanicInstances10)*(1-splitSize),'wrong split size'\n",
    "assert yTrain is not None, 'yTrain should not be None'\n",
    "assert len(yTrain)==len(xTitanicInstances10)*(1-splitSize),'wrong split size'\n",
    "\n",
    "print(xTrain[['Age','Gender']])\n",
    "print('-----------------')\n",
    "print(xTest[['Age','Gender']])\n",
    "print('-----------------')\n",
    "\n"
   ]
  },
  {
   "cell_type": "code",
   "execution_count": 9,
   "metadata": {
    "deletable": false,
    "nbgrader": {
     "cell_type": "code",
     "checksum": "dbbb2e64cbdd32647c353ad53b279287",
     "grade": false,
     "grade_id": "05-euclideanDist-impl",
     "locked": false,
     "schema_version": 3,
     "solution": true,
     "task": false
    }
   },
   "outputs": [],
   "source": [
    "# Change the following function to return the Euclidean Distastance between two vectors from the test and train\n",
    "# xSeriesTestVector and xSeriesTrainVector are actually Series objects\n",
    "# ---- the xSeriesTestVector and xSeriesTrainVector consist of a single row (in the from xTrain and xTest correspondigly) \n",
    "# The xInstances contains all columns, besides the 'Survived' column, which is the category column\n",
    "# --------------------- General notes:\n",
    "# Use of external packages are forbidden\n",
    "# Don't forget to remove the 'raise NotImplementedError()' line.\n",
    "# In the line following the '# YOUR CODE HERE' line, add your code\n",
    "# --------------------- \n",
    "def euclideanDist(xSeriesTestVector,xSeriesTrainVector):\n",
    "    # YOUR CODE HERE\n",
    "    dist = 0\n",
    "    for i in range(len(xSeriesTestVector)):\n",
    "        sum1 = xSeriesTestVector[i]-xSeriesTrainVector[i]\n",
    "        sum1 = pow(sum1,2)\n",
    "        dist += sum1\n",
    "    dist = math.sqrt(dist)\n",
    "        \n",
    "    return dist"
   ]
  },
  {
   "cell_type": "code",
   "execution_count": 10,
   "metadata": {
    "deletable": false,
    "editable": false,
    "nbgrader": {
     "cell_type": "code",
     "checksum": "0b3ee129727838aca18962ccbfa3e606",
     "grade": true,
     "grade_id": "test-euclideanDist",
     "locked": true,
     "points": 2,
     "schema_version": 3,
     "solution": false,
     "task": false
    }
   },
   "outputs": [
    {
     "name": "stdout",
     "output_type": "stream",
     "text": [
      "[3 1 0]\n",
      "[3 3 1]\n",
      "Euclidean Distance calculated successfuly: 2.236068\n"
     ]
    }
   ],
   "source": [
    "inst0 = xTitanicInstances[['Pclass','SibSp','Parch']].iloc[0]\n",
    "inst7 = xTitanicInstances[['Pclass','SibSp','Parch']].iloc[7]\n",
    "print (inst0.values)\n",
    "print (inst7.values)\n",
    "dist = euclideanDist(inst0,inst7)\n",
    "assert float(int(dist*100))/100 == 2.23, 'unexpected euclidean distance'\n",
    "print ('Euclidean Distance calculated successfuly: %f' %(dist))"
   ]
  },
  {
   "cell_type": "code",
   "execution_count": 11,
   "metadata": {
    "deletable": false,
    "nbgrader": {
     "cell_type": "code",
     "checksum": "e86e748d60ced569f6073092fc0680ee",
     "grade": false,
     "grade_id": "06-ManhattanDist-impl",
     "locked": false,
     "schema_version": 3,
     "solution": true,
     "task": false
    }
   },
   "outputs": [],
   "source": [
    "# Change the following function to return the Manhattan Distastance between two vectors from the test and train\n",
    "# xSeriesTestVector and xSeriesTrainVector are actually Series objects\n",
    "# ---- the xSeriesTestVector and xSeriesTrainVector consist of a single row (in the from xTrain and xTest correspondigly) \n",
    "# The xInstances contains all columns, besides the 'Survived' column, which is the category column\n",
    "# --------------------- General notes:\n",
    "# Use of external packages are forbidden\n",
    "# Don't forget to remove the 'raise NotImplementedError()' line.\n",
    "# In the line following the '# YOUR CODE HERE' line, add your code\n",
    "# --------------------- \n",
    "def manhattanDist(xSeriesTestVector,xSeriesTrainVector):\n",
    "    # YOUR CODE HERE\n",
    "    dist = 0\n",
    "    for i in range(len(xSeriesTestVector)):\n",
    "        sum1 = abs(xSeriesTestVector[i]-xSeriesTrainVector[i])\n",
    "        dist += sum1\n",
    "        \n",
    "    return dist"
   ]
  },
  {
   "cell_type": "code",
   "execution_count": 12,
   "metadata": {
    "deletable": false,
    "editable": false,
    "nbgrader": {
     "cell_type": "code",
     "checksum": "651fdd7d762cd9c685ae3ad6cc524430",
     "grade": true,
     "grade_id": "07-ManhattanDist-impl",
     "locked": true,
     "points": 2,
     "schema_version": 3,
     "solution": false,
     "task": false
    }
   },
   "outputs": [
    {
     "name": "stdout",
     "output_type": "stream",
     "text": [
      "[3 1 0]\n",
      "[3 3 1]\n",
      "Manhattan Distance calculated successfuly: 3\n"
     ]
    }
   ],
   "source": [
    "inst0 = xTitanicInstances[['Pclass','SibSp','Parch']].iloc[0]\n",
    "inst7 = xTitanicInstances[['Pclass','SibSp','Parch']].iloc[7]\n",
    "print (inst0.values)\n",
    "print (inst7.values)\n",
    "dist = manhattanDist(inst0,inst7)\n",
    "assert dist== 3, 'unexpected manhattan distance'\n",
    "print ('Manhattan Distance calculated successfuly: %d' %(dist))"
   ]
  },
  {
   "cell_type": "code",
   "execution_count": 13,
   "metadata": {
    "deletable": false,
    "nbgrader": {
     "cell_type": "code",
     "checksum": "1e8747b4b248adf3d008715a49b3fda7",
     "grade": false,
     "grade_id": "07-predictInstance-impl",
     "locked": false,
     "schema_version": 3,
     "solution": true,
     "task": false
    }
   },
   "outputs": [],
   "source": [
    "# Change the following function to return the Distastance between a test instance and all train instances\n",
    "# input parameter - xSeriesTestVector - is a Series object, from the test set\n",
    "# input parameter - xTrainInstances - is a dataframe including all train instances\n",
    "# input parameter - distanceMetric - the name of the distance function, not as a string\n",
    "# ---- distanceMetric - options are: euclideanDist ; manhattanDist\n",
    "# The retuned value is a numpy array, containing distances between the test instance\n",
    "#                 and all train instances (ordered by the train instance order) \n",
    "# --------------------- General notes:\n",
    "# Use of external packages are forbidden\n",
    "# Don't forget to remove the 'raise NotImplementedError()' line.\n",
    "# In the line following the '# YOUR CODE HERE' line, add your code\n",
    "# ---------------------\n",
    "def calcDistances(xSeriesTestVector, xTrainInstances,distanceMetric):\n",
    "    # YOUR CODE HERE\n",
    "    distances = []\n",
    "    for i in range(len(xTrainInstances)):\n",
    "        dist = distanceMetric(xSeriesTestVector, xTrainInstances.iloc[i])\n",
    "        distances.append(dist)\n",
    "        \n",
    "    return distances\n",
    "\n",
    "# Change the following function to predict the expected category, using the k-nn algorithm\n",
    "# input parameter - xSeriesTestVector - is a Series object, from the test set\n",
    "# input parameter - xTrainInstances - a dataframe including all train instances\n",
    "# input parameter - yTrainCategories - a dataframe including all train categories \n",
    "# input parameter - distanceMetric - the name of the distance function, not as a string\n",
    "# ---- distanceMetric - options are: euclideanDist ; manhattanDist\n",
    "# input parameter - k - the number of Nearest Neighbors (we select the majority out of k votes)\n",
    "# The retuned value is a numpy array, containing distances between the test instance\n",
    "#                 and all train instances (ordered by the train instance order) \n",
    "# --------------------- General notes:\n",
    "# Use of external packages are forbidden\n",
    "# Don't forget to remove the 'raise NotImplementedError()' line.\n",
    "# In the line following the '# YOUR CODE HERE' line, add your code\n",
    "# ---------------------\n",
    "def predict(xSeriesTestVector, xTrainInstances,yTrainCategories,distanceMetric,k):\n",
    "    distances = calcDistances(xSeriesTestVector, xTrainInstances,distanceMetric)\n",
    "    # calculate the k- nearest neighbors, based on the above distance array\n",
    "    # YOUR CODE HERE\n",
    "    sortDis = np.argsort(distances)\n",
    "    neighbors=[]\n",
    "    for i in range(k):\n",
    "        neighbors.append(sortDis[i])\n",
    "    prediction = yTrainCategories.iloc[neighbors]['Survived'].value_counts().idxmax()\n",
    "    \n",
    "    return prediction\n"
   ]
  },
  {
   "cell_type": "code",
   "execution_count": 14,
   "metadata": {
    "deletable": false,
    "editable": false,
    "nbgrader": {
     "cell_type": "code",
     "checksum": "0b82b72c3f130683a90a882d1d263e05",
     "grade": true,
     "grade_id": "test-predictInstance",
     "locked": true,
     "points": 3,
     "schema_version": 3,
     "solution": false,
     "task": false
    }
   },
   "outputs": [
    {
     "name": "stdout",
     "output_type": "stream",
     "text": [
      "manhattanDist,k=3, inst=-7, chosen cat: 0\n",
      "euclideanDist,k=3, inst=-7, chosen cat: 1\n",
      "(scaled) manhattanDist,k=3, inst=-7, chosen cat: 1\n",
      "(scaled) euclideanDist,k=3, inst=-7, chosen cat: 1\n",
      "---------------------------------------------------\n"
     ]
    }
   ],
   "source": [
    "# Feature Scaling\n",
    "## We will be using standardscaler to transform\n",
    "from sklearn.preprocessing import StandardScaler\n",
    "sc = StandardScaler()\n",
    "xTitanicInstances_5Features = xTitanicInstances[['Pclass','SibSp','Parch','Fare','Age']]\n",
    "xTitanicInstances_5Features_40 = xTitanicInstances_5Features.iloc[:40]\n",
    "yTitanicCategories_40 = yTitanicCategories.iloc[:40]\n",
    "xTitanicInstances_5Features_TestInst = xTitanicInstances_5Features.iloc[-7:-6]\n",
    "## transforming \"train_x\"\n",
    "xTrainScaled = pd.DataFrame(sc.fit_transform(xTitanicInstances_5Features_40),index=xTitanicInstances_5Features_40.index)\n",
    "\n",
    "## transforming \"test_x\"\n",
    "xTestScaled = pd.Series(sc.transform(xTitanicInstances_5Features_TestInst)[0],index=xTitanicInstances_5Features_40.columns)\n",
    "\n",
    "# measure distance without scaling:\n",
    "manhattanDist_k3 = predict(xTitanicInstances_5Features_TestInst.iloc[-1],xTitanicInstances_5Features_40,yTitanicCategories_40,manhattanDist,3)\n",
    "euclideanDist_k3 = predict(xTitanicInstances_5Features_TestInst.iloc[-1],xTitanicInstances_5Features_40,yTitanicCategories_40,euclideanDist,3)\n",
    "assert manhattanDist_k3 == 0,\"wrong value for knn, with k=3, dist='manhattan'\"\n",
    "assert euclideanDist_k3 == 1,\"wrong value for knn, with k=3, dist='euclidean'\"\n",
    "print ('manhattanDist,k=3, inst=-%d, chosen cat: %d' %(7,manhattanDist_k3))\n",
    "print ('euclideanDist,k=3, inst=-%d, chosen cat: %d' %(7,euclideanDist_k3))\n",
    "manhattanDist_scaled_k3 = predict(xTestScaled,xTrainScaled,yTitanicCategories_40,manhattanDist,3)\n",
    "euclideanDist_scaled_k3 = predict(xTestScaled,xTrainScaled,yTitanicCategories_40,euclideanDist,3)\n",
    "# measure distance with scaling:\n",
    "assert manhattanDist_scaled_k3 == 1,\"wrong value for (scaled) knn, with k=3, dist='manhattan'\"\n",
    "assert euclideanDist_scaled_k3 == 1,\"wrong value for (scaled) knn, with k=3, dist='euclidean'\"\n",
    "print ('(scaled) manhattanDist,k=3, inst=-%d, chosen cat: %d' %(7,euclideanDist_scaled_k3))\n",
    "print ('(scaled) euclideanDist,k=3, inst=-%d, chosen cat: %d' %(7,manhattanDist_scaled_k3))\n",
    "print ('---------------------------------------------------')\n",
    "\n"
   ]
  },
  {
   "cell_type": "code",
   "execution_count": 15,
   "metadata": {
    "deletable": false,
    "nbgrader": {
     "cell_type": "code",
     "checksum": "65a13ee640b9b99fa36fd316da9cee23",
     "grade": false,
     "grade_id": "08-accuracy-impl",
     "locked": false,
     "schema_version": 3,
     "solution": true,
     "task": false
    }
   },
   "outputs": [],
   "source": [
    "def evaluate_accuracy(xTestInstances,xTrainInstances,yTrainCategories,yTestCategories,distanceMetric,k):\n",
    "    # YOUR CODE HERE\n",
    "    count = 0\n",
    "    for i in range(len(xTestInstances)):\n",
    "        xSeriesTestVector = xTestInstances.iloc[i]\n",
    "        predictedCategory = predict(xSeriesTestVector, xTrainInstances, yTrainCategories, distanceMetric,k)\n",
    "        if(predictedCategory == yTestCategories['Survived'].values[i]):\n",
    "            count += 1\n",
    "    evaluateAccuracy = count/len(xTestInstances)\n",
    "    return evaluateAccuracy\n"
   ]
  },
  {
   "cell_type": "code",
   "execution_count": 16,
   "metadata": {
    "deletable": false,
    "editable": false,
    "nbgrader": {
     "cell_type": "code",
     "checksum": "05ae7a9c6f328531b523980a2400b330",
     "grade": true,
     "grade_id": "test-accuracy",
     "locked": true,
     "points": 1,
     "schema_version": 3,
     "solution": false,
     "task": false
    }
   },
   "outputs": [
    {
     "name": "stdout",
     "output_type": "stream",
     "text": [
      "manhattanDist,k=3, acc: 0.450000\n",
      "(Scaled) euclideanDist,k=3, acc: 0.600000\n"
     ]
    }
   ],
   "source": [
    "from sklearn.preprocessing import StandardScaler\n",
    "sc = StandardScaler()\n",
    "\n",
    "xTitanicInstances_5Features = xTitanicInstances[['Pclass','SibSp','Parch','Fare','Age']]\n",
    "xTitanicInstances_5Features_100 = xTitanicInstances_5Features.iloc[:100]\n",
    "yTitanicCategories_100 = yTitanicCategories.iloc[:100]\n",
    "xTitanicInstances_5Features_Test_10 = xTitanicInstances_5Features.iloc[-20:]\n",
    "yTitanicCategories_Test_10 = yTitanicCategories.iloc[-20:]\n",
    "## scale:\n",
    "xTrainScaled = pd.DataFrame(sc.fit_transform(xTitanicInstances_5Features_100),index=xTitanicInstances_5Features_100.index)\n",
    "xTestScaled = pd.DataFrame(sc.transform(xTitanicInstances_5Features_Test_10),index=xTitanicInstances_5Features_Test_10.index)\n",
    "\n",
    "acc_manhattan_3 = evaluate_accuracy(xTitanicInstances_5Features_Test_10,xTitanicInstances_5Features_100,yTitanicCategories_100,yTitanicCategories_Test_10,manhattanDist,3)\n",
    "acc_scaled_euclidean_3 = evaluate_accuracy(xTestScaled,xTrainScaled,yTitanicCategories_100,yTitanicCategories_Test_10,euclideanDist,3)\n",
    "\n",
    "assert acc_manhattan_3 == 0.45,\"wrong value for accuracy of knn, with k=3, dist='manhattan'\"\n",
    "assert acc_scaled_euclidean_3 == 0.60,\"wrong value for accuracy of (Scaled) knn, with k=3, dist='euclidean'\"\n",
    "print ('manhattanDist,k=3, acc: %f' %(acc_manhattan_3))\n",
    "print ('(Scaled) euclideanDist,k=3, acc: %f' %(acc_scaled_euclidean_3))\n",
    "\n"
   ]
  },
  {
   "cell_type": "code",
   "execution_count": null,
   "metadata": {},
   "outputs": [],
   "source": []
  }
 ],
 "metadata": {
  "kernelspec": {
   "display_name": "Python 3",
   "language": "python",
   "name": "python3"
  },
  "language_info": {
   "codemirror_mode": {
    "name": "ipython",
    "version": 3
   },
   "file_extension": ".py",
   "mimetype": "text/x-python",
   "name": "python",
   "nbconvert_exporter": "python",
   "pygments_lexer": "ipython3",
   "version": "3.7.4"
  }
 },
 "nbformat": 4,
 "nbformat_minor": 2
}
